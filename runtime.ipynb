{
 "cells": [
  {
   "cell_type": "markdown",
   "id": "b6ca99e8",
   "metadata": {},
   "source": [
    "Aprendendo Python"
   ]
  },
  {
   "cell_type": "code",
   "execution_count": 6,
   "id": "aebba890",
   "metadata": {},
   "outputs": [
    {
     "name": "stdout",
     "output_type": "stream",
     "text": [
      "Ola Paulo\n"
     ]
    }
   ],
   "source": [
    "print(\"Ola Paulo\")\n"
   ]
  },
  {
   "cell_type": "markdown",
   "id": "b6cde87b",
   "metadata": {},
   "source": [
    "Continuando teste"
   ]
  },
  {
   "cell_type": "code",
   "execution_count": null,
   "id": "8ae9d174",
   "metadata": {},
   "outputs": [],
   "source": []
  }
 ],
 "metadata": {
  "kernelspec": {
   "display_name": "Python 3",
   "language": "python",
   "name": "python3"
  },
  "language_info": {
   "codemirror_mode": {
    "name": "ipython",
    "version": 3
   },
   "file_extension": ".py",
   "mimetype": "text/x-python",
   "name": "python",
   "nbconvert_exporter": "python",
   "pygments_lexer": "ipython3",
   "version": "3.13.3"
  }
 },
 "nbformat": 4,
 "nbformat_minor": 5
}
